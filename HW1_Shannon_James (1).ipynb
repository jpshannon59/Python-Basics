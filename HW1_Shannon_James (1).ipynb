{
  "nbformat": 4,
  "nbformat_minor": 0,
  "metadata": {
    "colab": {
      "name": "HW1_Shannon_James",
      "provenance": [],
      "collapsed_sections": []
    },
    "kernelspec": {
      "name": "python3",
      "display_name": "Python 3"
    }
  },
  "cells": [
    {
      "cell_type": "markdown",
      "metadata": {
        "id": "uacFrEaZfcfq"
      },
      "source": [
        "##### Q1. Write a program that prompts the user to enter a password then prints the length of the password.\n",
        "\n",
        "```\n",
        "Enter your password: hello\n",
        "Your password is 5 long.\n",
        "```\n",
        "\n",
        "\n"
      ]
    },
    {
      "cell_type": "code",
      "metadata": {
        "id": "avPyES14ftCt",
        "colab": {
          "base_uri": "https://localhost:8080/"
        },
        "outputId": "c442bcaa-aba7-4bcb-8c3e-4dc72f19b610"
      },
      "source": [
        "# Type solution here\n",
        "password = input(\"Enter your Password:\")\n",
        "print(\"Your password is\", len(password), \"long\") \n"
      ],
      "execution_count": null,
      "outputs": [
        {
          "output_type": "stream",
          "text": [
            "Enter your Password:boo\n",
            "Your password is 3 long\n"
          ],
          "name": "stdout"
        }
      ]
    },
    {
      "cell_type": "markdown",
      "metadata": {
        "id": "ekh-kABuItli"
      },
      "source": [
        ""
      ]
    },
    {
      "cell_type": "markdown",
      "metadata": {
        "id": "K1yko-xUItU3"
      },
      "source": [
        ""
      ]
    },
    {
      "cell_type": "markdown",
      "metadata": {
        "id": "behD0j_Of2TW"
      },
      "source": [
        "##### Q2. Write a program that prompts the user to enter their full name then prints the number of characters in their name (do not count spaces).\n",
        "\n",
        "```\n",
        "What is your name? Amulya Katti\n",
        "Amulya Katti your name has 11 characters.\n",
        "```"
      ]
    },
    {
      "cell_type": "code",
      "metadata": {
        "id": "XSdIRjwlhSlu",
        "colab": {
          "base_uri": "https://localhost:8080/"
        },
        "outputId": "069d21e5-b1c8-4962-9bef-3dde944e6a23"
      },
      "source": [
        "# Type solution here\n",
        "name = input(\"What is your name?\")\n",
        "character_count = 0\n",
        "for i in name.lower():\n",
        "  if i != [\" \"]:\n",
        "    character_count = character_count + 1\n",
        "print(name, \"your name has\", character_count, \"characters.\")"
      ],
      "execution_count": null,
      "outputs": [
        {
          "output_type": "stream",
          "text": [
            "What is your name?James Shannon\n",
            "James Shannon your name has 13 characters.\n"
          ],
          "name": "stdout"
        }
      ]
    },
    {
      "cell_type": "markdown",
      "metadata": {
        "id": "5KHOWF6FhVHV"
      },
      "source": [
        "##### Q3. Write a program that prompts the user to enter a month (as a number), then prints the name of the month and the number of days in that month. Ensure that the user inputs a valid month and handle any error cases.\n",
        "\n",
        "```\n",
        "Enter the month number: 9\n",
        "September has 30 days\n",
        "```"
      ]
    },
    {
      "cell_type": "code",
      "metadata": {
        "id": "KhS-SAEThyTG",
        "colab": {
          "base_uri": "https://localhost:8080/",
          "height": 249
        },
        "outputId": "bcedf208-5e43-46f3-9f46-48d6053eab45"
      },
      "source": [
        "# Type solution here\n",
        "month = int(input(\"Enter the month number: \"))\n",
        "if ((month <= 0) or (month >=13)):\n",
        "  print(\"The input you entered was invalid. Please try again: \")\n",
        "else:  \n",
        "  nums2names = {1: \"January\", 2: \"February\", 3:\"March\", 4:\"April\", 5:\"May\", \n",
        "                6:\"June\", 7:\"July\", 8:\"August\", 9:\"September\", 10:\"October\", \n",
        "                11:\"November\", 12:\"December\"}\n",
        "\n",
        "  month_name = nums2names[month]\n",
        "  if month in [1,3,5,7,8,10,12]:\n",
        "    num_days = 31\n",
        "  elif month in [4,6,9,11]:\n",
        "    num_days = 30\n",
        "  else:\n",
        "    num_days = 28\n",
        "  print(f\"{month_name} has {num_days} days\")\n",
        "\n",
        "\n",
        "\n",
        "\n",
        "\n"
      ],
      "execution_count": null,
      "outputs": [
        {
          "output_type": "stream",
          "text": [
            "Enter the month number: j\n"
          ],
          "name": "stdout"
        },
        {
          "output_type": "error",
          "ename": "TypeError",
          "evalue": "ignored",
          "traceback": [
            "\u001b[0;31m---------------------------------------------------------------------------\u001b[0m",
            "\u001b[0;31mTypeError\u001b[0m                                 Traceback (most recent call last)",
            "\u001b[0;32m<ipython-input-3-0de685970657>\u001b[0m in \u001b[0;36m<module>\u001b[0;34m()\u001b[0m\n\u001b[1;32m      1\u001b[0m \u001b[0;31m# Type solution here\u001b[0m\u001b[0;34m\u001b[0m\u001b[0;34m\u001b[0m\u001b[0;34m\u001b[0m\u001b[0m\n\u001b[1;32m      2\u001b[0m \u001b[0mmonth\u001b[0m \u001b[0;34m=\u001b[0m \u001b[0;34m(\u001b[0m\u001b[0minput\u001b[0m\u001b[0;34m(\u001b[0m\u001b[0;34m\"Enter the month number: \"\u001b[0m\u001b[0;34m)\u001b[0m\u001b[0;34m)\u001b[0m\u001b[0;34m\u001b[0m\u001b[0;34m\u001b[0m\u001b[0m\n\u001b[0;32m----> 3\u001b[0;31m \u001b[0;32mif\u001b[0m \u001b[0;34m(\u001b[0m\u001b[0;34m(\u001b[0m\u001b[0mmonth\u001b[0m \u001b[0;34m<=\u001b[0m \u001b[0;36m0\u001b[0m\u001b[0;34m)\u001b[0m \u001b[0;32mor\u001b[0m \u001b[0;34m(\u001b[0m\u001b[0mmonth\u001b[0m \u001b[0;34m>=\u001b[0m\u001b[0;36m13\u001b[0m\u001b[0;34m)\u001b[0m \u001b[0;32mor\u001b[0m \u001b[0;34m(\u001b[0m\u001b[0mtype\u001b[0m\u001b[0;34m(\u001b[0m\u001b[0mmonth\u001b[0m\u001b[0;34m)\u001b[0m \u001b[0;34m!=\u001b[0m \u001b[0mint\u001b[0m\u001b[0;34m)\u001b[0m\u001b[0;34m)\u001b[0m\u001b[0;34m:\u001b[0m\u001b[0;34m\u001b[0m\u001b[0;34m\u001b[0m\u001b[0m\n\u001b[0m\u001b[1;32m      4\u001b[0m   \u001b[0mprint\u001b[0m\u001b[0;34m(\u001b[0m\u001b[0;34m\"The input you entered was invalid. Please try again: \"\u001b[0m\u001b[0;34m)\u001b[0m\u001b[0;34m\u001b[0m\u001b[0;34m\u001b[0m\u001b[0m\n\u001b[1;32m      5\u001b[0m \u001b[0;32melse\u001b[0m\u001b[0;34m:\u001b[0m\u001b[0;34m\u001b[0m\u001b[0;34m\u001b[0m\u001b[0m\n",
            "\u001b[0;31mTypeError\u001b[0m: '<=' not supported between instances of 'str' and 'int'"
          ]
        }
      ]
    },
    {
      "cell_type": "markdown",
      "metadata": {
        "id": "O7lnAdGlh6Xa"
      },
      "source": [
        "##### Q4. Write a program that prompts the user to enter a loan amount, annual interest rate, and number of years  for a car loan. Then calculate and print the monthly payment amount.\n",
        "\n",
        "Note:\n",
        "```\n",
        "PMT= [PV*i*((1+i)^n)]/[((1+i)^n)-1]\n",
        "```\n",
        "PMT is the monthly payment\n",
        "\n",
        "PV is the loan amount\n",
        "\n",
        "i is the interest rate per month in decimal form (interest rate percentage divided by 12)\n",
        "\n",
        "n is the number of months (term of the loan in months)\n",
        "\n",
        "```\n",
        "Loan Amount: 30000.00\n",
        "Annual Interest Rate: 4.00\n",
        "Years: 5\n",
        "Your monthly payment is: $552.50\n",
        "```"
      ]
    },
    {
      "cell_type": "code",
      "metadata": {
        "id": "p4B5JH5GiTs9",
        "colab": {
          "base_uri": "https://localhost:8080/"
        },
        "outputId": "f745ae4a-0714-49ec-b5bf-040df005dae0"
      },
      "source": [
        "# Type solution here\n",
        "PV = int(input(\"Enter loan amount: \"))\n",
        "interest_rate = float(input(\"Enter annual interest rate: \"))\n",
        "years = int(input(\"Enter how many years: \"))\n",
        "n = years * 12\n",
        "i = ((interest_rate / 100) / 12)\n",
        "print(i)\n",
        "PMT= (PV*i*((1+i)**n))/(((1+i)**n)-1)\n",
        "print(f\"Loan amount: {PV}\")\n",
        "print(f\"Annual Interest Rate: {interest_rate}\")\n",
        "print(f\"Years: {years}\")\n",
        "print(f\"Your monthly payment is: ${round(PMT,2)}\")\n"
      ],
      "execution_count": null,
      "outputs": [
        {
          "output_type": "stream",
          "text": [
            "Enter loan amount: 30000\n",
            "Enter annual interest rate: 4\n",
            "Enter how many years: 5\n",
            "0.0033333333333333335\n",
            "Loan amount: 30000\n",
            "Annual Interest Rate: 4.0\n",
            "Years: 5\n",
            "Your monthly payment is: $552.5\n"
          ],
          "name": "stdout"
        }
      ]
    },
    {
      "cell_type": "markdown",
      "metadata": {
        "id": "SjiolJKgiWV-"
      },
      "source": [
        "##### Q5. Write a program to that prompts the user to enter a string. Then check whether or not the string is a palindrome.\n",
        "\n",
        "```\n",
        "Enter a string: Madam\n",
        "Madam, is a palindrome!\n",
        "```"
      ]
    },
    {
      "cell_type": "code",
      "metadata": {
        "id": "F5_M934Ri0es",
        "colab": {
          "base_uri": "https://localhost:8080/"
        },
        "outputId": "eb91afac-389f-4426-eaff-d37288584f06"
      },
      "source": [
        "# Type solution here\n",
        "isPalindrome = True\n",
        "s = input(\"Enter a string: \")\n",
        "ln = len(s)\n",
        "s = s.lower()\n",
        "for i in range(ln):\n",
        "  if s[i] != s[ln-i-1]:\n",
        "    #print(f\"character {s[i]} not same as character {s[ln-i-1]})\n",
        "    isPalindrome = False\n",
        "    break\n",
        "if isPalindrome:\n",
        "  print(f\"{s} is a palindrome\")\n",
        "else:\n",
        "  print(f\"{s} is not a palindrome\")"
      ],
      "execution_count": null,
      "outputs": [
        {
          "output_type": "stream",
          "text": [
            "Enter a string: Madam\n",
            "madam is a palindrome\n"
          ],
          "name": "stdout"
        }
      ]
    },
    {
      "cell_type": "markdown",
      "metadata": {
        "id": "BLBD6n9vkJEu"
      },
      "source": [
        "##### Q6. Write a program to compute and print all possible combinations of change for \\$1. Denominations to be considered – quarter, dime, nickel, penny.\n",
        "\n",
        "Hint: Use nested loops (loops within loops for the various denominations of coins)\n",
        "\n",
        "```\n",
        "Change for $1:\n",
        "0 quarters, 0 dimes, 0 nickels, 100 pennies\n",
        "…\n",
        "4 quarters, 0 dimes, 0 nickels, 0 pennies\n",
        "```"
      ]
    },
    {
      "cell_type": "code",
      "metadata": {
        "id": "kAQsTjwDkZZ5",
        "colab": {
          "base_uri": "https://localhost:8080/"
        },
        "outputId": "c5ad803e-4dad-4f88-d166-dadbe8502217"
      },
      "source": [
        "# Type solution here\n",
        "print(\"Change for a 1$\")\n",
        "for q in range(0,5): #range for quarters\n",
        "  amount_left = 100 - (q*25)\n",
        "  max_dimes = int(amount_left/10)\n",
        "  for d in range(0, max_dimes+1): #range for dimes\n",
        "    amount_left = 100 - (q*25 + d*10)\n",
        "    max_nickles = int(amount_left/5)\n",
        "    for n in range(0,max_nickles+1): # range for nickles\n",
        "      p = 100 - (q*25 + d*10 +n*5)\n",
        "      print(f\"{q} quarters, {d} dimes, {n} nickles, {p} pennies\")"
      ],
      "execution_count": null,
      "outputs": [
        {
          "output_type": "stream",
          "text": [
            "Change for a 1$\n",
            "0 quarters, 0 dimes, 0 nickles, 100 pennies\n",
            "0 quarters, 0 dimes, 1 nickles, 95 pennies\n",
            "0 quarters, 0 dimes, 2 nickles, 90 pennies\n",
            "0 quarters, 0 dimes, 3 nickles, 85 pennies\n",
            "0 quarters, 0 dimes, 4 nickles, 80 pennies\n",
            "0 quarters, 0 dimes, 5 nickles, 75 pennies\n",
            "0 quarters, 0 dimes, 6 nickles, 70 pennies\n",
            "0 quarters, 0 dimes, 7 nickles, 65 pennies\n",
            "0 quarters, 0 dimes, 8 nickles, 60 pennies\n",
            "0 quarters, 0 dimes, 9 nickles, 55 pennies\n",
            "0 quarters, 0 dimes, 10 nickles, 50 pennies\n",
            "0 quarters, 0 dimes, 11 nickles, 45 pennies\n",
            "0 quarters, 0 dimes, 12 nickles, 40 pennies\n",
            "0 quarters, 0 dimes, 13 nickles, 35 pennies\n",
            "0 quarters, 0 dimes, 14 nickles, 30 pennies\n",
            "0 quarters, 0 dimes, 15 nickles, 25 pennies\n",
            "0 quarters, 0 dimes, 16 nickles, 20 pennies\n",
            "0 quarters, 0 dimes, 17 nickles, 15 pennies\n",
            "0 quarters, 0 dimes, 18 nickles, 10 pennies\n",
            "0 quarters, 0 dimes, 19 nickles, 5 pennies\n",
            "0 quarters, 0 dimes, 20 nickles, 0 pennies\n",
            "0 quarters, 1 dimes, 0 nickles, 90 pennies\n",
            "0 quarters, 1 dimes, 1 nickles, 85 pennies\n",
            "0 quarters, 1 dimes, 2 nickles, 80 pennies\n",
            "0 quarters, 1 dimes, 3 nickles, 75 pennies\n",
            "0 quarters, 1 dimes, 4 nickles, 70 pennies\n",
            "0 quarters, 1 dimes, 5 nickles, 65 pennies\n",
            "0 quarters, 1 dimes, 6 nickles, 60 pennies\n",
            "0 quarters, 1 dimes, 7 nickles, 55 pennies\n",
            "0 quarters, 1 dimes, 8 nickles, 50 pennies\n",
            "0 quarters, 1 dimes, 9 nickles, 45 pennies\n",
            "0 quarters, 1 dimes, 10 nickles, 40 pennies\n",
            "0 quarters, 1 dimes, 11 nickles, 35 pennies\n",
            "0 quarters, 1 dimes, 12 nickles, 30 pennies\n",
            "0 quarters, 1 dimes, 13 nickles, 25 pennies\n",
            "0 quarters, 1 dimes, 14 nickles, 20 pennies\n",
            "0 quarters, 1 dimes, 15 nickles, 15 pennies\n",
            "0 quarters, 1 dimes, 16 nickles, 10 pennies\n",
            "0 quarters, 1 dimes, 17 nickles, 5 pennies\n",
            "0 quarters, 1 dimes, 18 nickles, 0 pennies\n",
            "0 quarters, 2 dimes, 0 nickles, 80 pennies\n",
            "0 quarters, 2 dimes, 1 nickles, 75 pennies\n",
            "0 quarters, 2 dimes, 2 nickles, 70 pennies\n",
            "0 quarters, 2 dimes, 3 nickles, 65 pennies\n",
            "0 quarters, 2 dimes, 4 nickles, 60 pennies\n",
            "0 quarters, 2 dimes, 5 nickles, 55 pennies\n",
            "0 quarters, 2 dimes, 6 nickles, 50 pennies\n",
            "0 quarters, 2 dimes, 7 nickles, 45 pennies\n",
            "0 quarters, 2 dimes, 8 nickles, 40 pennies\n",
            "0 quarters, 2 dimes, 9 nickles, 35 pennies\n",
            "0 quarters, 2 dimes, 10 nickles, 30 pennies\n",
            "0 quarters, 2 dimes, 11 nickles, 25 pennies\n",
            "0 quarters, 2 dimes, 12 nickles, 20 pennies\n",
            "0 quarters, 2 dimes, 13 nickles, 15 pennies\n",
            "0 quarters, 2 dimes, 14 nickles, 10 pennies\n",
            "0 quarters, 2 dimes, 15 nickles, 5 pennies\n",
            "0 quarters, 2 dimes, 16 nickles, 0 pennies\n",
            "0 quarters, 3 dimes, 0 nickles, 70 pennies\n",
            "0 quarters, 3 dimes, 1 nickles, 65 pennies\n",
            "0 quarters, 3 dimes, 2 nickles, 60 pennies\n",
            "0 quarters, 3 dimes, 3 nickles, 55 pennies\n",
            "0 quarters, 3 dimes, 4 nickles, 50 pennies\n",
            "0 quarters, 3 dimes, 5 nickles, 45 pennies\n",
            "0 quarters, 3 dimes, 6 nickles, 40 pennies\n",
            "0 quarters, 3 dimes, 7 nickles, 35 pennies\n",
            "0 quarters, 3 dimes, 8 nickles, 30 pennies\n",
            "0 quarters, 3 dimes, 9 nickles, 25 pennies\n",
            "0 quarters, 3 dimes, 10 nickles, 20 pennies\n",
            "0 quarters, 3 dimes, 11 nickles, 15 pennies\n",
            "0 quarters, 3 dimes, 12 nickles, 10 pennies\n",
            "0 quarters, 3 dimes, 13 nickles, 5 pennies\n",
            "0 quarters, 3 dimes, 14 nickles, 0 pennies\n",
            "0 quarters, 4 dimes, 0 nickles, 60 pennies\n",
            "0 quarters, 4 dimes, 1 nickles, 55 pennies\n",
            "0 quarters, 4 dimes, 2 nickles, 50 pennies\n",
            "0 quarters, 4 dimes, 3 nickles, 45 pennies\n",
            "0 quarters, 4 dimes, 4 nickles, 40 pennies\n",
            "0 quarters, 4 dimes, 5 nickles, 35 pennies\n",
            "0 quarters, 4 dimes, 6 nickles, 30 pennies\n",
            "0 quarters, 4 dimes, 7 nickles, 25 pennies\n",
            "0 quarters, 4 dimes, 8 nickles, 20 pennies\n",
            "0 quarters, 4 dimes, 9 nickles, 15 pennies\n",
            "0 quarters, 4 dimes, 10 nickles, 10 pennies\n",
            "0 quarters, 4 dimes, 11 nickles, 5 pennies\n",
            "0 quarters, 4 dimes, 12 nickles, 0 pennies\n",
            "0 quarters, 5 dimes, 0 nickles, 50 pennies\n",
            "0 quarters, 5 dimes, 1 nickles, 45 pennies\n",
            "0 quarters, 5 dimes, 2 nickles, 40 pennies\n",
            "0 quarters, 5 dimes, 3 nickles, 35 pennies\n",
            "0 quarters, 5 dimes, 4 nickles, 30 pennies\n",
            "0 quarters, 5 dimes, 5 nickles, 25 pennies\n",
            "0 quarters, 5 dimes, 6 nickles, 20 pennies\n",
            "0 quarters, 5 dimes, 7 nickles, 15 pennies\n",
            "0 quarters, 5 dimes, 8 nickles, 10 pennies\n",
            "0 quarters, 5 dimes, 9 nickles, 5 pennies\n",
            "0 quarters, 5 dimes, 10 nickles, 0 pennies\n",
            "0 quarters, 6 dimes, 0 nickles, 40 pennies\n",
            "0 quarters, 6 dimes, 1 nickles, 35 pennies\n",
            "0 quarters, 6 dimes, 2 nickles, 30 pennies\n",
            "0 quarters, 6 dimes, 3 nickles, 25 pennies\n",
            "0 quarters, 6 dimes, 4 nickles, 20 pennies\n",
            "0 quarters, 6 dimes, 5 nickles, 15 pennies\n",
            "0 quarters, 6 dimes, 6 nickles, 10 pennies\n",
            "0 quarters, 6 dimes, 7 nickles, 5 pennies\n",
            "0 quarters, 6 dimes, 8 nickles, 0 pennies\n",
            "0 quarters, 7 dimes, 0 nickles, 30 pennies\n",
            "0 quarters, 7 dimes, 1 nickles, 25 pennies\n",
            "0 quarters, 7 dimes, 2 nickles, 20 pennies\n",
            "0 quarters, 7 dimes, 3 nickles, 15 pennies\n",
            "0 quarters, 7 dimes, 4 nickles, 10 pennies\n",
            "0 quarters, 7 dimes, 5 nickles, 5 pennies\n",
            "0 quarters, 7 dimes, 6 nickles, 0 pennies\n",
            "0 quarters, 8 dimes, 0 nickles, 20 pennies\n",
            "0 quarters, 8 dimes, 1 nickles, 15 pennies\n",
            "0 quarters, 8 dimes, 2 nickles, 10 pennies\n",
            "0 quarters, 8 dimes, 3 nickles, 5 pennies\n",
            "0 quarters, 8 dimes, 4 nickles, 0 pennies\n",
            "0 quarters, 9 dimes, 0 nickles, 10 pennies\n",
            "0 quarters, 9 dimes, 1 nickles, 5 pennies\n",
            "0 quarters, 9 dimes, 2 nickles, 0 pennies\n",
            "0 quarters, 10 dimes, 0 nickles, 0 pennies\n",
            "1 quarters, 0 dimes, 0 nickles, 75 pennies\n",
            "1 quarters, 0 dimes, 1 nickles, 70 pennies\n",
            "1 quarters, 0 dimes, 2 nickles, 65 pennies\n",
            "1 quarters, 0 dimes, 3 nickles, 60 pennies\n",
            "1 quarters, 0 dimes, 4 nickles, 55 pennies\n",
            "1 quarters, 0 dimes, 5 nickles, 50 pennies\n",
            "1 quarters, 0 dimes, 6 nickles, 45 pennies\n",
            "1 quarters, 0 dimes, 7 nickles, 40 pennies\n",
            "1 quarters, 0 dimes, 8 nickles, 35 pennies\n",
            "1 quarters, 0 dimes, 9 nickles, 30 pennies\n",
            "1 quarters, 0 dimes, 10 nickles, 25 pennies\n",
            "1 quarters, 0 dimes, 11 nickles, 20 pennies\n",
            "1 quarters, 0 dimes, 12 nickles, 15 pennies\n",
            "1 quarters, 0 dimes, 13 nickles, 10 pennies\n",
            "1 quarters, 0 dimes, 14 nickles, 5 pennies\n",
            "1 quarters, 0 dimes, 15 nickles, 0 pennies\n",
            "1 quarters, 1 dimes, 0 nickles, 65 pennies\n",
            "1 quarters, 1 dimes, 1 nickles, 60 pennies\n",
            "1 quarters, 1 dimes, 2 nickles, 55 pennies\n",
            "1 quarters, 1 dimes, 3 nickles, 50 pennies\n",
            "1 quarters, 1 dimes, 4 nickles, 45 pennies\n",
            "1 quarters, 1 dimes, 5 nickles, 40 pennies\n",
            "1 quarters, 1 dimes, 6 nickles, 35 pennies\n",
            "1 quarters, 1 dimes, 7 nickles, 30 pennies\n",
            "1 quarters, 1 dimes, 8 nickles, 25 pennies\n",
            "1 quarters, 1 dimes, 9 nickles, 20 pennies\n",
            "1 quarters, 1 dimes, 10 nickles, 15 pennies\n",
            "1 quarters, 1 dimes, 11 nickles, 10 pennies\n",
            "1 quarters, 1 dimes, 12 nickles, 5 pennies\n",
            "1 quarters, 1 dimes, 13 nickles, 0 pennies\n",
            "1 quarters, 2 dimes, 0 nickles, 55 pennies\n",
            "1 quarters, 2 dimes, 1 nickles, 50 pennies\n",
            "1 quarters, 2 dimes, 2 nickles, 45 pennies\n",
            "1 quarters, 2 dimes, 3 nickles, 40 pennies\n",
            "1 quarters, 2 dimes, 4 nickles, 35 pennies\n",
            "1 quarters, 2 dimes, 5 nickles, 30 pennies\n",
            "1 quarters, 2 dimes, 6 nickles, 25 pennies\n",
            "1 quarters, 2 dimes, 7 nickles, 20 pennies\n",
            "1 quarters, 2 dimes, 8 nickles, 15 pennies\n",
            "1 quarters, 2 dimes, 9 nickles, 10 pennies\n",
            "1 quarters, 2 dimes, 10 nickles, 5 pennies\n",
            "1 quarters, 2 dimes, 11 nickles, 0 pennies\n",
            "1 quarters, 3 dimes, 0 nickles, 45 pennies\n",
            "1 quarters, 3 dimes, 1 nickles, 40 pennies\n",
            "1 quarters, 3 dimes, 2 nickles, 35 pennies\n",
            "1 quarters, 3 dimes, 3 nickles, 30 pennies\n",
            "1 quarters, 3 dimes, 4 nickles, 25 pennies\n",
            "1 quarters, 3 dimes, 5 nickles, 20 pennies\n",
            "1 quarters, 3 dimes, 6 nickles, 15 pennies\n",
            "1 quarters, 3 dimes, 7 nickles, 10 pennies\n",
            "1 quarters, 3 dimes, 8 nickles, 5 pennies\n",
            "1 quarters, 3 dimes, 9 nickles, 0 pennies\n",
            "1 quarters, 4 dimes, 0 nickles, 35 pennies\n",
            "1 quarters, 4 dimes, 1 nickles, 30 pennies\n",
            "1 quarters, 4 dimes, 2 nickles, 25 pennies\n",
            "1 quarters, 4 dimes, 3 nickles, 20 pennies\n",
            "1 quarters, 4 dimes, 4 nickles, 15 pennies\n",
            "1 quarters, 4 dimes, 5 nickles, 10 pennies\n",
            "1 quarters, 4 dimes, 6 nickles, 5 pennies\n",
            "1 quarters, 4 dimes, 7 nickles, 0 pennies\n",
            "1 quarters, 5 dimes, 0 nickles, 25 pennies\n",
            "1 quarters, 5 dimes, 1 nickles, 20 pennies\n",
            "1 quarters, 5 dimes, 2 nickles, 15 pennies\n",
            "1 quarters, 5 dimes, 3 nickles, 10 pennies\n",
            "1 quarters, 5 dimes, 4 nickles, 5 pennies\n",
            "1 quarters, 5 dimes, 5 nickles, 0 pennies\n",
            "1 quarters, 6 dimes, 0 nickles, 15 pennies\n",
            "1 quarters, 6 dimes, 1 nickles, 10 pennies\n",
            "1 quarters, 6 dimes, 2 nickles, 5 pennies\n",
            "1 quarters, 6 dimes, 3 nickles, 0 pennies\n",
            "1 quarters, 7 dimes, 0 nickles, 5 pennies\n",
            "1 quarters, 7 dimes, 1 nickles, 0 pennies\n",
            "2 quarters, 0 dimes, 0 nickles, 50 pennies\n",
            "2 quarters, 0 dimes, 1 nickles, 45 pennies\n",
            "2 quarters, 0 dimes, 2 nickles, 40 pennies\n",
            "2 quarters, 0 dimes, 3 nickles, 35 pennies\n",
            "2 quarters, 0 dimes, 4 nickles, 30 pennies\n",
            "2 quarters, 0 dimes, 5 nickles, 25 pennies\n",
            "2 quarters, 0 dimes, 6 nickles, 20 pennies\n",
            "2 quarters, 0 dimes, 7 nickles, 15 pennies\n",
            "2 quarters, 0 dimes, 8 nickles, 10 pennies\n",
            "2 quarters, 0 dimes, 9 nickles, 5 pennies\n",
            "2 quarters, 0 dimes, 10 nickles, 0 pennies\n",
            "2 quarters, 1 dimes, 0 nickles, 40 pennies\n",
            "2 quarters, 1 dimes, 1 nickles, 35 pennies\n",
            "2 quarters, 1 dimes, 2 nickles, 30 pennies\n",
            "2 quarters, 1 dimes, 3 nickles, 25 pennies\n",
            "2 quarters, 1 dimes, 4 nickles, 20 pennies\n",
            "2 quarters, 1 dimes, 5 nickles, 15 pennies\n",
            "2 quarters, 1 dimes, 6 nickles, 10 pennies\n",
            "2 quarters, 1 dimes, 7 nickles, 5 pennies\n",
            "2 quarters, 1 dimes, 8 nickles, 0 pennies\n",
            "2 quarters, 2 dimes, 0 nickles, 30 pennies\n",
            "2 quarters, 2 dimes, 1 nickles, 25 pennies\n",
            "2 quarters, 2 dimes, 2 nickles, 20 pennies\n",
            "2 quarters, 2 dimes, 3 nickles, 15 pennies\n",
            "2 quarters, 2 dimes, 4 nickles, 10 pennies\n",
            "2 quarters, 2 dimes, 5 nickles, 5 pennies\n",
            "2 quarters, 2 dimes, 6 nickles, 0 pennies\n",
            "2 quarters, 3 dimes, 0 nickles, 20 pennies\n",
            "2 quarters, 3 dimes, 1 nickles, 15 pennies\n",
            "2 quarters, 3 dimes, 2 nickles, 10 pennies\n",
            "2 quarters, 3 dimes, 3 nickles, 5 pennies\n",
            "2 quarters, 3 dimes, 4 nickles, 0 pennies\n",
            "2 quarters, 4 dimes, 0 nickles, 10 pennies\n",
            "2 quarters, 4 dimes, 1 nickles, 5 pennies\n",
            "2 quarters, 4 dimes, 2 nickles, 0 pennies\n",
            "2 quarters, 5 dimes, 0 nickles, 0 pennies\n",
            "3 quarters, 0 dimes, 0 nickles, 25 pennies\n",
            "3 quarters, 0 dimes, 1 nickles, 20 pennies\n",
            "3 quarters, 0 dimes, 2 nickles, 15 pennies\n",
            "3 quarters, 0 dimes, 3 nickles, 10 pennies\n",
            "3 quarters, 0 dimes, 4 nickles, 5 pennies\n",
            "3 quarters, 0 dimes, 5 nickles, 0 pennies\n",
            "3 quarters, 1 dimes, 0 nickles, 15 pennies\n",
            "3 quarters, 1 dimes, 1 nickles, 10 pennies\n",
            "3 quarters, 1 dimes, 2 nickles, 5 pennies\n",
            "3 quarters, 1 dimes, 3 nickles, 0 pennies\n",
            "3 quarters, 2 dimes, 0 nickles, 5 pennies\n",
            "3 quarters, 2 dimes, 1 nickles, 0 pennies\n",
            "4 quarters, 0 dimes, 0 nickles, 0 pennies\n"
          ],
          "name": "stdout"
        }
      ]
    },
    {
      "cell_type": "markdown",
      "metadata": {
        "id": "rUPDjYiIkbgs"
      },
      "source": [
        "##### Q7. Ask the user to enter two positive integers between 1 and 100. Read those integers. Then output a multiplication table of the first number times the second number. \n",
        "\n",
        "Note: You have to ensure the entered numbers are between 1 and 100 only.\n",
        "\n",
        "```\n",
        "Please enter an integer: 5\n",
        "Please enter another integer: 20\n",
        "5 x 1 = 5\n",
        "5 x 2 = 10\n",
        "5 x 3 = 15\n",
        "…\n",
        "5 x 20 = 100\n",
        "```"
      ]
    },
    {
      "cell_type": "code",
      "metadata": {
        "id": "Qg0Orv1klHzA",
        "colab": {
          "base_uri": "https://localhost:8080/",
          "height": 249
        },
        "outputId": "6b6cef97-ae2d-4dbd-c931-b9c60e2eed48"
      },
      "source": [
        "# Type solution here\n",
        "n = int(input(\"Please enter an integer: \"))\n",
        "k = int(input(\"Please enter another integer: \"))\n",
        "if (n < 1 or n > 100 or k < 1 or k > 100):\n",
        "  print(\"Both integers must be between 1 and 100.\")\n",
        "else:\n",
        "  for i in range(1, k+1):\n",
        "    print(f\"{n} x {i} = {n*i}\")\n",
        "\n"
      ],
      "execution_count": null,
      "outputs": [
        {
          "output_type": "stream",
          "text": [
            "Please enter an integer: one\n"
          ],
          "name": "stdout"
        },
        {
          "output_type": "error",
          "ename": "ValueError",
          "evalue": "ignored",
          "traceback": [
            "\u001b[0;31m---------------------------------------------------------------------------\u001b[0m",
            "\u001b[0;31mValueError\u001b[0m                                Traceback (most recent call last)",
            "\u001b[0;32m<ipython-input-17-d9b122ac589c>\u001b[0m in \u001b[0;36m<module>\u001b[0;34m()\u001b[0m\n\u001b[1;32m      1\u001b[0m \u001b[0;31m# Type solution here\u001b[0m\u001b[0;34m\u001b[0m\u001b[0;34m\u001b[0m\u001b[0;34m\u001b[0m\u001b[0m\n\u001b[0;32m----> 2\u001b[0;31m \u001b[0mn\u001b[0m \u001b[0;34m=\u001b[0m \u001b[0mint\u001b[0m\u001b[0;34m(\u001b[0m\u001b[0minput\u001b[0m\u001b[0;34m(\u001b[0m\u001b[0;34m\"Please enter an integer: \"\u001b[0m\u001b[0;34m)\u001b[0m\u001b[0;34m)\u001b[0m\u001b[0;34m\u001b[0m\u001b[0;34m\u001b[0m\u001b[0m\n\u001b[0m\u001b[1;32m      3\u001b[0m \u001b[0mk\u001b[0m \u001b[0;34m=\u001b[0m \u001b[0mint\u001b[0m\u001b[0;34m(\u001b[0m\u001b[0minput\u001b[0m\u001b[0;34m(\u001b[0m\u001b[0;34m\"Please enter another integer: \"\u001b[0m\u001b[0;34m)\u001b[0m\u001b[0;34m)\u001b[0m\u001b[0;34m\u001b[0m\u001b[0;34m\u001b[0m\u001b[0m\n\u001b[1;32m      4\u001b[0m \u001b[0;32mif\u001b[0m \u001b[0;34m(\u001b[0m\u001b[0mn\u001b[0m \u001b[0;34m<\u001b[0m \u001b[0;36m1\u001b[0m \u001b[0;32mor\u001b[0m \u001b[0mn\u001b[0m \u001b[0;34m>\u001b[0m \u001b[0;36m100\u001b[0m \u001b[0;32mor\u001b[0m \u001b[0mk\u001b[0m \u001b[0;34m<\u001b[0m \u001b[0;36m1\u001b[0m \u001b[0;32mor\u001b[0m \u001b[0mk\u001b[0m \u001b[0;34m>\u001b[0m \u001b[0;36m100\u001b[0m\u001b[0;34m)\u001b[0m\u001b[0;34m:\u001b[0m\u001b[0;34m\u001b[0m\u001b[0;34m\u001b[0m\u001b[0m\n\u001b[1;32m      5\u001b[0m   \u001b[0mprint\u001b[0m\u001b[0;34m(\u001b[0m\u001b[0;34m\"Both integers must be between 1 and 100.\"\u001b[0m\u001b[0;34m)\u001b[0m\u001b[0;34m\u001b[0m\u001b[0;34m\u001b[0m\u001b[0m\n",
            "\u001b[0;31mValueError\u001b[0m: invalid literal for int() with base 10: 'one'"
          ]
        }
      ]
    },
    {
      "cell_type": "markdown",
      "metadata": {
        "id": "SbnbPUPTlLD9"
      },
      "source": [
        "##### Q8. Write a program to ask the user to enter a password. Then check to see if it is a valid password based on these requirements -\n",
        "\n",
        "Must be at least 8 characters long\n",
        "\n",
        "Must contain both uppercase and lowercase letters\n",
        "\n",
        "Must contain at least one number between 0-9\n",
        "\n",
        "Must contain a special character -!,@,#,$\n",
        "\n",
        "If the password is not valid, ask the user to re-enter. This should continue until the user enters a valid password. After a valid password is entered, print Access Granted!\n",
        "\n",
        "```\n",
        "Please enter a password. Follow these requirements - \n",
        "a. Must be at least 8 characters long\n",
        "b. Must contain both uppercase and lowercase letters\n",
        "c. Must contain at least one number between 0-9\n",
        "d. Must contain a special character -!,@,#,$\n",
        "Password: HelloWorld1\n",
        "Invalid password. Try again!\n",
        "Password: Hello@World1\n",
        "Access Granted!\n",
        "```\n"
      ]
    },
    {
      "cell_type": "code",
      "metadata": {
        "id": "OXmZ177Rl-RV",
        "colab": {
          "base_uri": "https://localhost:8080/"
        },
        "outputId": "dde25460-de80-4415-95ca-af66cc4061dc"
      },
      "source": [
        "# Type solution here\n",
        "instructions = (\"a. Must be at least 8 characters long\\n\" + \n",
        "\"b. Must contain both uppercase and lowercase letters\\n\" + \n",
        "\"c. Must contain at least one number between 0-9\\n\" + \n",
        "\"d. Must contain a special character -!,@,#,$\\n\")\n",
        "pas = input(instructions)\n",
        "valid = True\n",
        "if len(pas) < 8:\n",
        "  valid = False\n",
        "if pas == pas.upper():\n",
        "  valid = False\n",
        "if pas == pas.lower():\n",
        "  valid == False\n",
        "hasDigit, hasSpecial = False, False\n",
        "for c in pas:\n",
        "  if c.isdigit():\n",
        "    hasDigit = True\n",
        "  elif c in [\"#\", \"$\", \"!\", \"-\", \"@\"]:\n",
        "    hasSpecial = True\n",
        "    \n",
        "if (not hasDigit or not hasSpecial):\n",
        "  valid = False\n",
        "if valid:\n",
        "  print(\"Access Granted!\")\n",
        "else:\n",
        "  print(\"Invalid password. Try again!\")\n",
        "\n",
        "\n"
      ],
      "execution_count": null,
      "outputs": [
        {
          "output_type": "stream",
          "text": [
            "a. Must be at least 8 characters long\n",
            "b. Must contain both uppercase and lowercase letters\n",
            "c. Must contain at least one number between 0-9\n",
            "d. Must contain a special character -!,@,#,$\n",
            "james\n",
            "Invalid password. Try again!\n"
          ],
          "name": "stdout"
        }
      ]
    },
    {
      "cell_type": "markdown",
      "metadata": {
        "id": "-0sdutTDnTKA"
      },
      "source": [
        "##### Q9. Given the score sheet of participants in a competition, you are required to find the runner-up score. You are given scores in a list. Find the score of the runner-up.\n",
        "\n",
        "```\n",
        "list1 - [2, 3, 6, 6, 5]\n",
        "runner_up - 5\n",
        "\n",
        "list2 - [1, 7, 5, 3, 10, 4, 5, 5, 6, 11]\n",
        "runner_up - 10\n",
        "```"
      ]
    },
    {
      "cell_type": "code",
      "metadata": {
        "id": "12YP9OaqpGRK",
        "colab": {
          "base_uri": "https://localhost:8080/"
        },
        "outputId": "58276945-c2f7-4fe5-895c-3ceb9b399a8c"
      },
      "source": [
        "# Type solution here\n",
        "\n",
        "def runnerup(lst):\n",
        "  lst_nodup = set(lst)\n",
        "  list_sorted = sorted(lst_nodup, reverse = True)\n",
        "  runnerup = list_sorted[1]\n",
        "  print(lst)\n",
        "  print(\"runner_up - \", runnerup)\n",
        "\n",
        "list1 = [2, 3, 6, 6, 5]\n",
        "list2 = [1, 7, 5, 3, 10, 4, 5, 5, 6, 11]\n",
        "runnerup(list1)\n",
        "runnerup(list2)\n",
        "\n"
      ],
      "execution_count": null,
      "outputs": [
        {
          "output_type": "stream",
          "text": [
            "[2, 3, 6, 6, 5]\n",
            "runner_up -  5\n",
            "[1, 7, 5, 3, 10, 4, 5, 5, 6, 11]\n",
            "runner_up -  10\n"
          ],
          "name": "stdout"
        }
      ]
    }
  ]
}